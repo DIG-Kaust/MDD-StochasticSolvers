{
 "cells": [
  {
   "cell_type": "code",
   "execution_count": 1,
   "metadata": {
    "id": "QURVE-_BLnpo"
   },
   "outputs": [],
   "source": [
    "%load_ext autoreload\n",
    "%autoreload 2\n",
    "%matplotlib inline\n",
    "\n",
    "import warnings\n",
    "warnings.filterwarnings('ignore')\n",
    "import cProfile\n",
    "import numpy as np\n",
    "import matplotlib.pyplot as plt\n",
    "import scipy as sp\n",
    "import torch\n",
    "import torchvision\n",
    "import torch.nn as nn\n",
    "import pylops_gpu\n",
    "\n",
    "\n",
    "from scipy.sparse import csr_matrix, vstack\n",
    "from scipy.linalg import lstsq, solve\n",
    "from scipy.sparse.linalg import LinearOperator, cg, lsqr\n",
    "from scipy import misc\n",
    "from tqdm.notebook import tqdm_notebook, tnrange\n",
    "from torch.autograd import gradcheck\n",
    "from pylops_gpu.utils.backend import device\n",
    "from torch.nn import MSELoss\n",
    "from torch.utils.data import TensorDataset, DataLoader\n",
    "\n",
    "from pylops.utils                      import dottest\n",
    "from pylops.utils.wavelets             import *\n",
    "from pylops.utils.seismicevents        import *\n",
    "from pylops.utils.tapers               import *\n",
    "from pylops.basicoperators             import *\n",
    "from pylops.signalprocessing           import *\n",
    "from pylops.waveeqprocessing.mdd       import *\n",
    "from pylops.optimization.leastsquares  import *"
   ]
  },
  {
   "cell_type": "code",
   "execution_count": 2,
   "metadata": {
    "id": "ASd16Gzwg9Ef"
   },
   "outputs": [],
   "source": [
    "###### Input parameters\n",
    "par = {'ox':-300,  'dx':10,    'nx':61,\n",
    "       'oy':-500,  'dy':10,    'ny':101,\n",
    "       'ot':0,     'dt':0.004, 'nt':400,\n",
    "       'f0': 20,   'nfmax': 200}\n",
    "\n",
    "t0_m    = [0.2]\n",
    "vrms_m  = [1100.]\n",
    "amp_m   = [1.]\n",
    "\n",
    "t0_G    = [0.2,0.5,0.7]\n",
    "vrms_G  = [1200.,1500., 2000.]\n",
    "amp_G   = [1.,0.6,0.5]\n",
    "\n",
    "ns = par['ny']\n",
    "nr = par['nx']\n",
    "nt = par['nt']\n",
    "nfmax = par['nfmax']\n",
    "dr = par['dx']\n",
    "ds = par['dy']\n",
    "dt = par['dt']\n",
    "f0 = par['f0']\n",
    "\n",
    "# Create taper for operator\n",
    "tap = taper3d(nt, (ns,nr), [5,5], tapertype='hanning')\n",
    "\n",
    "# Create axis\n",
    "t,t2,x,y = makeaxis(par)\n",
    "\n",
    "# Create wavelet\n",
    "wav = ricker(t[:41], f0)[0]\n",
    "\n",
    "# Generate model\n",
    "m, mwav = hyperbolic2d(x,t,t0_m,vrms_m,amp_m,wav)\n",
    "\n",
    "# Generate operator\n",
    "G,Gwavoriginal = np.zeros((ns,nr,nt)), - \\\n",
    "         np.zeros((ns,nr,nt))\n",
    "for iy,y0 in enumerate(y):\n",
    "    G[iy],Gwavoriginal[iy] = hyperbolic2d(x-y0,t,t0_G,vrms_G,amp_G,wav)\n",
    "G,Gwavoriginal = G*tap,Gwavoriginal*tap\n",
    "\n",
    "\n",
    "Gwav = Gwavoriginal"
   ]
  },
  {
   "cell_type": "code",
   "execution_count": 3,
   "metadata": {
    "colab": {
     "base_uri": "https://urldefense.com/v3/__https://localhost:8080/__;!!Nmw4Hv0!gpXH3mhiivG3nq6llXkJgWyn4ur-yT4nnQvRy9IXroADbLDQUfcWE74KaCcDM1OByoL2X5D9Mg$ "
    },
    "id": "vYOC8fDYQrDW",
    "outputId": "d4e7ece6-516d-4c96-86ae-4944fd22af23"
   },
   "outputs": [
    {
     "data": {
      "text/plain": [
       "(101, 61, 799)"
      ]
     },
     "execution_count": 3,
     "metadata": {},
     "output_type": "execute_result"
    }
   ],
   "source": [
    "# Add negative part to operator and model\n",
    "ns = Gwav.shape[0]\n",
    "m     = np.concatenate((np.zeros((nr, nt-1)), m), axis=-1).T\n",
    "mwav  = np.concatenate((np.zeros((nr, nt-1)), mwav), axis=-1).T\n",
    "Gwav2 = np.concatenate((np.zeros((ns, nr, nt-1)), Gwav), axis=-1)\n",
    "\n",
    "Gwav2.shape"
   ]
  },
  {
   "cell_type": "code",
   "execution_count": 4,
   "metadata": {
    "id": "zjXuXBF3QrDX"
   },
   "outputs": [],
   "source": [
    "# Create frequency domain operator\n",
    "Gwav_fft = np.fft.rfft(Gwav2, 2*nt-1, axis=-1)\n",
    "Gwav_fft = Gwav_fft[...,:nfmax]\n",
    "Gwav_fft = Gwav_fft.transpose(2,0,1)\n",
    "\n",
    "# Create operator\n",
    "MDCop=MDC(Gwav_fft, nt=2*nt-1, nv=1, dt=dt, dr=dr, \n",
    "          twosided=True, transpose=False)\n",
    "\n",
    "# dottest(MDCop, MDCop.shape[0], MDCop.shape[1], complexflag=3, verb=True)\n",
    "\n",
    "# Create data\n",
    "d = MDCop*m.flatten()\n",
    "d = d.reshape(2*nt-1, ns)"
   ]
  },
  {
   "cell_type": "code",
   "execution_count": 5,
   "metadata": {
    "id": "eQOkk4ZEFnMb"
   },
   "outputs": [],
   "source": [
    "\n",
    "MDCop = pylops_gpu.TorchOperator(MDCop, pylops = True)\n",
    "d =  torch.from_numpy(d.astype(np.float32))\n",
    "m  =  torch.from_numpy(m.astype(np.float32))\n",
    "Gwav2 = torch.from_numpy(Gwav2.astype(np.float32))\n",
    "\n",
    "d1 = MDCop.apply(m.flatten())\n",
    "d1 = d1.view(2*nt-1, ns)"
   ]
  },
  {
   "cell_type": "code",
   "execution_count": 6,
   "metadata": {
    "id": "7DYnN_fpUlRY"
   },
   "outputs": [],
   "source": [
    "lossdict = {}\n",
    "avgdict = {}\n",
    "enormdict ={}"
   ]
  },
  {
   "cell_type": "code",
   "execution_count": 7,
   "metadata": {
    "id": "IgLYa_Z9x7NZ"
   },
   "outputs": [],
   "source": [
    "n_epochs= 100\n",
    "batch_size = 11\n",
    "\n",
    "optimizer = 'SGD'\n",
    "learning_rate = 1"
   ]
  },
  {
   "cell_type": "code",
   "execution_count": 8,
   "metadata": {
    "id": "9ADtRdfGHifd"
   },
   "outputs": [],
   "source": [
    "nv=1\n",
    "class GwavSGD(nn.Module):\n",
    "  def __init__(self,nt,nv,dt,dr,ns,nfmax):\n",
    "    self.nt = nt\n",
    "    self.nv = nv\n",
    "    self.dt = dt\n",
    "    self.dr =dr\n",
    "    self.ns = ns\n",
    "    self.nfmax =nfmax\n",
    "    super().__init__()\n",
    "    \n",
    "\n",
    "  def forward(self,model, batch):\n",
    "    batch_size = batch.shape[0]\n",
    "    Gwav_fft = np.fft.rfft(batch, 2*self.nt-1, axis=-1)\n",
    "    Gwav_fft = Gwav_fft[...,:self.nfmax]\n",
    "    Gwav_fft = Gwav_fft.transpose(2,0,1)\n",
    "    \n",
    "    MDCop=MDC(Gwav_fft, nt=2*self.nt-1, nv=1, dt=self.dt, dr=self.dr, \n",
    "          twosided=True, transpose=False)\n",
    "   \n",
    "    \n",
    "    MDCop = pylops_gpu.TorchOperator(MDCop, pylops = True)\n",
    "    \n",
    "    data = MDCop.apply(model.flatten())\n",
    "    data = data.view(2*self.nt-1, batch_size)\n",
    "\n",
    "    return data\n"
   ]
  },
  {
   "cell_type": "code",
   "execution_count": 9,
   "metadata": {
    "id": "jSE9nVjxZTu6"
   },
   "outputs": [],
   "source": [
    "def advoptMDD(model, optimizer, lr):\n",
    "  if optimizer == 'SGD':\n",
    "\n",
    "      optimizer = torch.optim.SGD([model], lr = lr)\n",
    "\n",
    "  elif optimizer == 'Adadelta':\n",
    "   \n",
    "      optimizer = torch.optim.Adadelta([model], lr =lr)\n",
    "    \n",
    "  elif optimizer == 'Adam':\n",
    "   \n",
    "      optimizer= torch.optim.Adam([model], lr=lr)\n",
    "   \n",
    "\n",
    "  elif optimizer == 'RMSprop':\n",
    "  \n",
    "      optimizer= torch.optim.RMSprop([model], lr =lr, weight_decay=1e-3, eps = 1e-04)\n",
    "   \n",
    "\n",
    "  elif optimizer == 'Adagrad':\n",
    "  \n",
    "      optimizer= torch.optim.Adagrad([model], lr = lr)\n",
    "\n",
    "  return optimizer\n"
   ]
  },
  {
   "cell_type": "code",
   "execution_count": 10,
   "metadata": {
    "id": "o31Rd_wrU0BX"
   },
   "outputs": [],
   "source": [
    "\n",
    "\n",
    "def advancedSolvers(GwavSGD,model,d1,Gwav2,optimizer, lr, n_epochs, batch_size):\n",
    "\n",
    "  d2 = torch.transpose(d1, 1,0)\n",
    "  no_of_batches=np.ceil(Gwav2.shape[0]/batch_size)\n",
    "  \n",
    " \n",
    "  t_train = TensorDataset(Gwav2, d2)\n",
    "  trainloader = DataLoader(dataset = t_train, batch_size = batch_size, shuffle = True)\n",
    "  for x, y in trainloader:\n",
    "    print(x.shape, y.shape)\n",
    "\n",
    "  criterion = nn.MSELoss()\n",
    "  optimizer = advoptMDD(model, optimizer, lr)\n",
    "\n",
    "  \n",
    "  GwavTorch = GwavSGD(nt,nv,dt,dr,ns,nfmax)\n",
    "  lossHist=[]\n",
    "  lossavg=[]\n",
    "  enormHist=[]\n",
    "  for epoch in range(n_epochs):\n",
    "    losses=[]\n",
    "    \n",
    "    for batch,dbatch in trainloader: \n",
    "      \n",
    "       data = GwavTorch(model, batch)\n",
    "       dbatch1 = torch.transpose(dbatch,1,0)\n",
    "       loss = criterion(dbatch1, data)\n",
    "     \n",
    "       loss.backward()\n",
    "       optimizer.step()\n",
    "       optimizer.zero_grad()\n",
    "\n",
    "       lossHist.append(loss.item())\n",
    "       losses.append(loss.item())\n",
    "      \n",
    "       enorm1 = np.linalg.norm(model.detach().numpy()/model.detach().numpy().max() - m.detach().numpy()/m.detach().numpy().max())\n",
    "       enormHist.append(enorm1)\n",
    "\n",
    "\n",
    "\n",
    "    avg_loss = sum(losses) / len(losses)\n",
    "    lossavg.append(avg_loss)\n",
    "       \n",
    "       \n",
    "    \n",
    "    if (epoch+1) %10 ==0:\n",
    "     print(f'epoch: {epoch+1}, loss : {loss.item():.4f}, loss avg : {avg_loss:.4f}')\n",
    "    \n",
    "\n",
    "    lossdict[optimizer] = lossHist\n",
    "    avgdict[optimizer] = lossavg\n",
    "    enormdict[optimizer] = enormHist\n",
    "\n",
    "  return lossHist, lossavg, enormHist\n",
    "\n"
   ]
  },
  {
   "cell_type": "code",
   "execution_count": 11,
   "metadata": {
    "id": "k1XXPxaC5J59"
   },
   "outputs": [],
   "source": [
    "model = np.zeros((m.shape[0], m.shape[1]))\n",
    "model = torch.from_numpy(model)\n",
    "model.requires_grad= True"
   ]
  },
  {
   "cell_type": "code",
   "execution_count": 12,
   "metadata": {
    "colab": {
     "base_uri": "https://urldefense.com/v3/__https://localhost:8080/__;!!Nmw4Hv0!gpXH3mhiivG3nq6llXkJgWyn4ur-yT4nnQvRy9IXroADbLDQUfcWE74KaCcDM1OByoL2X5D9Mg$ "
    },
    "id": "zMtVsLOXAdlu",
    "outputId": "f7de245c-266c-4a4c-ba22-c65745cb094c"
   },
   "outputs": [
    {
     "name": "stdout",
     "output_type": "stream",
     "text": [
      "torch.Size([11, 61, 799]) torch.Size([11, 799])\n",
      "torch.Size([11, 61, 799]) torch.Size([11, 799])\n",
      "torch.Size([11, 61, 799]) torch.Size([11, 799])\n",
      "torch.Size([11, 61, 799]) torch.Size([11, 799])\n",
      "torch.Size([11, 61, 799]) torch.Size([11, 799])\n",
      "torch.Size([11, 61, 799]) torch.Size([11, 799])\n",
      "torch.Size([11, 61, 799]) torch.Size([11, 799])\n",
      "torch.Size([11, 61, 799]) torch.Size([11, 799])\n",
      "torch.Size([11, 61, 799]) torch.Size([11, 799])\n",
      "torch.Size([2, 61, 799]) torch.Size([2, 799])\n",
      "epoch: 10, loss : 0.0051, loss avg : 0.0057\n",
      "epoch: 20, loss : 0.0022, loss avg : 0.0025\n",
      "epoch: 30, loss : 0.0016, loss avg : 0.0015\n",
      "epoch: 40, loss : 0.0011, loss avg : 0.0012\n",
      "epoch: 50, loss : 0.0007, loss avg : 0.0008\n",
      "epoch: 60, loss : 0.0005, loss avg : 0.0007\n",
      "epoch: 70, loss : 0.0005, loss avg : 0.0006\n",
      "epoch: 80, loss : 0.0005, loss avg : 0.0005\n",
      "epoch: 90, loss : 0.0004, loss avg : 0.0004\n",
      "epoch: 100, loss : 0.0004, loss avg : 0.0004\n"
     ]
    }
   ],
   "source": [
    "lossHist, lossavg, enormHist = advancedSolvers(GwavSGD,model,d1,Gwav2,optimizer=optimizer, lr=learning_rate, n_epochs =n_epochs, batch_size = batch_size)"
   ]
  },
  {
   "cell_type": "code",
   "execution_count": 13,
   "metadata": {
    "colab": {
     "base_uri": "https://urldefense.com/v3/__https://localhost:8080/__;!!Nmw4Hv0!gpXH3mhiivG3nq6llXkJgWyn4ur-yT4nnQvRy9IXroADbLDQUfcWE74KaCcDM1OByoL2X5D9Mg$ ",
     "height": 513
    },
    "id": "2uC-BF-2K9cN",
    "outputId": "0f761dd9-6ed3-4582-a381-e51d77b90b1d"
   },
   "outputs": [
    {
     "data": {
      "image/png": "[encoded data removed]",
      "text/plain": [
       "<Figure size 864x504 with 1 Axes>"
      ]
     },
     "metadata": {
      "needs_background": "light"
     },
     "output_type": "display_data"
    }
   ],
   "source": [
    "fig = plt.figure(figsize= (12,7))\n",
    "\n",
    "ax1 = plt.subplot2grid((1, 5), (0, 0), colspan=2)\n",
    "ax1.imshow(model.detach().numpy(), aspect='auto', interpolation='nearest', cmap='gray',\n",
    "           vmin=-model.detach().numpy().max(), vmax=model.detach().numpy().max(),\n",
    "           extent=(x.min(),x.max(),t2.max(),t2.min()))\n",
    "ax1.set_title('Rinv', fontsize=12)\n",
    "ax1.set_xlabel('x'),ax1.set_ylabel('t')\n",
    "\n",
    "plt.tight_layout()\n",
    "\n"
   ]
  },
  {
   "cell_type": "code",
   "execution_count": 14,
   "metadata": {
    "colab": {
     "base_uri": "https://urldefense.com/v3/__https://localhost:8080/__;!!Nmw4Hv0!gpXH3mhiivG3nq6llXkJgWyn4ur-yT4nnQvRy9IXroADbLDQUfcWE74KaCcDM1OByoL2X5D9Mg$ ",
     "height": 441
    },
    "id": "pfLYpeOFcxyc",
    "outputId": "1ab97e08-f4d2-4b5a-9fd6-5b8d0be643b8"
   },
   "outputs": [
    {
     "data": {
      "image/png": "[encoded data removed]",
      "text/plain": [
       "<Figure size 864x432 with 1 Axes>"
      ]
     },
     "metadata": {
      "needs_background": "light"
     },
     "output_type": "display_data"
    }
   ],
   "source": [
    "no_of_batches=np.ceil(Gwav2.shape[0]/batch_size)\n",
    "\n",
    "\n",
    "for loss, avg in zip(lossdict.keys(), avgdict.keys()):\n",
    "  \n",
    "  fig = plt.figure(figsize= (12,6))\n",
    "\n",
    "  plt.plot(lossdict[loss], label = loss)\n",
    "  plt.plot(np.arange(0, no_of_batches*n_epochs, no_of_batches)+ no_of_batches/2,avgdict[avg], 'k--',label = \"avg\", linewidth = 2)\n",
    "\n",
    "  plt.xlabel('n_epochs * no_of_batches')\n",
    "  plt.ylabel('residual')\n",
    "  plt.title('Optimization cost function')\n",
    "\n",
    "  plt.legend()\n",
    "  plt.tight_layout()\n"
   ]
  },
  {
   "cell_type": "markdown",
   "metadata": {
    "id": "zzSuh4URvknU"
   },
   "source": [
    "## Data from LSQR Solver##"
   ]
  },
  {
   "cell_type": "code",
   "execution_count": 15,
   "metadata": {
    "colab": {
     "base_uri": "https://urldefense.com/v3/__https://localhost:8080/__;!!Nmw4Hv0!gpXH3mhiivG3nq6llXkJgWyn4ur-yT4nnQvRy9IXroADbLDQUfcWE74KaCcDM1OByoL2X5D9Mg$ "
    },
    "id": "xIJ6sy_pZnAt",
    "outputId": "671fbcc8-5dd9-466f-90c7-1d5b5724e4ac"
   },
   "outputs": [
    {
     "name": "stdout",
     "output_type": "stream",
     "text": [
      "[2.22851743e+11 2.54711515e+10 3.87738246e+09 7.41649204e+08\n",
      " 1.81758621e+08 6.57547926e+07 2.62709529e+07 1.04274811e+07\n",
      " 5.12424324e+06 2.12575502e+06 1.18337514e+06 7.80645009e+05\n",
      " 2.71290556e+05 1.64562533e+05 1.52376546e+05 6.67854100e+04\n",
      " 3.91263712e+04 3.41911962e+04 2.68389822e+04 1.29103340e+04\n",
      " 1.17765336e+04 8.67756532e+03 6.16587339e+03 3.94345787e+03\n",
      " 3.62700403e+03 2.36205977e+03 1.39290837e+03 1.15224027e+03\n",
      " 1.12300926e+03 1.59742983e+03 1.02610063e+03 6.00782549e+02\n",
      " 4.08392849e+02 4.63479278e+02 3.63721671e+02 2.43329128e+02\n",
      " 1.78112996e+02 1.53380387e+02 1.36258534e+02 1.00736520e+02\n",
      " 2.19350110e+02 1.14462420e+02 6.96807050e+01 7.23577997e+01\n",
      " 5.81588350e+01 4.01818413e+01 3.03831900e+01 2.29027817e+01\n",
      " 2.83883946e+01 4.62570792e+01]\n"
     ]
    }
   ],
   "source": [
    "f = np.load('MDD_basic_norms.npz')\n",
    "\n",
    "\n",
    "lsqr_cost = f['cost'] \n",
    "lsqr_enorm = f['enorm']\n",
    "\n",
    "# print(lsqr_cost)"
   ]
  },
  {
   "cell_type": "code",
   "execution_count": 16,
   "metadata": {
    "colab": {
     "base_uri": "https://urldefense.com/v3/__https://localhost:8080/__;!!Nmw4Hv0!gpXH3mhiivG3nq6llXkJgWyn4ur-yT4nnQvRy9IXroADbLDQUfcWE74KaCcDM1OByoL2X5D9Mg$ "
    },
    "id": "7g90P62tWPpz",
    "outputId": "938d1e1e-8162-4fe8-86cf-375459cf2210"
   },
   "outputs": [
    {
     "name": "stdout",
     "output_type": "stream",
     "text": [
      "[2.25080261e+13 2.57258630e+12 3.91615629e+11 7.49065696e+10\n",
      " 1.83576208e+10 6.64123405e+09 2.65336625e+09 1.05317559e+09\n",
      " 5.17548567e+08 2.14701257e+08 1.19520890e+08 7.88451460e+07\n",
      " 2.74003462e+07 1.66208158e+07 1.53900312e+07 6.74532641e+06\n",
      " 3.95176349e+06 3.45331081e+06 2.71073720e+06 1.30394373e+06\n",
      " 1.18942990e+06 8.76434098e+05 6.22753212e+05 3.98289244e+05\n",
      " 3.66327407e+05 2.38568037e+05 1.40683746e+05 1.16376267e+05\n",
      " 1.13423935e+05 1.61340412e+05 1.03636164e+05 6.06790375e+04\n",
      " 4.12476777e+04 4.68114071e+04 3.67358888e+04 2.45762419e+04\n",
      " 1.79894126e+04 1.54914191e+04 1.37621119e+04 1.01743885e+04\n",
      " 2.21543611e+04 1.15607044e+04 7.03775121e+03 7.30813777e+03\n",
      " 5.87404233e+03 4.05836597e+03 3.06870219e+03 2.31318096e+03\n",
      " 2.86722785e+03 4.67196500e+03]\n"
     ]
    }
   ],
   "source": [
    "# lsqr_cost = lsqr_cost * Gwav2.shape[0]\n",
    "# print(lsqr_cost)"
   ]
  },
  {
   "cell_type": "code",
   "execution_count": 17,
   "metadata": {
    "colab": {
     "base_uri": "https://urldefense.com/v3/__https://localhost:8080/__;!!Nmw4Hv0!gpXH3mhiivG3nq6llXkJgWyn4ur-yT4nnQvRy9IXroADbLDQUfcWE74KaCcDM1OByoL2X5D9Mg$ "
    },
    "id": "Z57FhfLRWZZk",
    "outputId": "ed8501a6-c0f7-47ab-b260-110755ddd163"
   },
   "outputs": [
    {
     "name": "stdout",
     "output_type": "stream",
     "text": [
      "[0.36258919820735447, 0.08677442155864566, 0.03195618373121155, 0.020714703455489904, 0.01492999332603929, 0.010922983105188569, 0.009352762206010284, 0.007457515219726429, 0.006993851235896367, 0.005675779791704736, 0.005059681081351204, 0.004451702869094172, 0.004164899271770001, 0.003620560147418054, 0.003658502507059027, 0.0034049751519312143, 0.003109504945851451, 0.003112021834600564, 0.0025954238553493785, 0.0024784282003464607, 0.002409820611808139, 0.0020942603549339873, 0.002100925302373553, 0.00209094323407069, 0.0022636383600045484, 0.0030235111871013565, 0.0021731949652199233, 0.0017434122617385694, 0.0015573240127718052, 0.0015449463239292393, 0.0015093854443056953, 0.0014644025469939465, 0.0013746525508912442, 0.0013156170501060728, 0.0012450213982931366, 0.0011999579167564062, 0.0012008040756971464, 0.0012440058900815832, 0.0011172656848895811, 0.001168958698469108, 0.0010928857968595372, 0.0011779903268704338, 0.0009805427535840914, 0.000992849568981252, 0.0009267124149907356, 0.0009396760132988527, 0.0009402465702673689, 0.0008863394966086184, 0.0008841848199927508, 0.0008110248801577905, 0.0007902562603373951, 0.0007752167592646652, 0.0007636133797600943, 0.0008359596624831309, 0.0008030987873531258, 0.0008130292569723153, 0.0008972044431366864, 0.0008719476618324042, 0.000728131470977403, 0.0006960744560004963, 0.0007250255594284577, 0.0008070894444763155, 0.0008115671718714674, 0.0007322397806555779, 0.0010573377261853408, 0.0007139532079328472, 0.0007227934460483267, 0.0005987102570180214, 0.0006300724630587856, 0.0006006591597770701, 0.0005513893718652816, 0.000566226375801339, 0.0005477210066631573, 0.0005661525778445601, 0.0005323822676797516, 0.0005204890251656551, 0.0005262215173248367, 0.000490811395251416, 0.0005495697239860516, 0.0005412729213352173, 0.0005024919153581036, 0.0004587455250775179, 0.000509373086747886, 0.0004707138032210618, 0.0005956733098483799, 0.0005880243526928319, 0.0006920084561505824, 0.0006245934349906991, 0.00043959524145116194, 0.0004114266232993001, 0.00041294752307977415, 0.00042900428325669737, 0.00044998356034559733, 0.0004179708844425364, 0.00041218443234093135, 0.00041946622725055774, 0.00038485012969744024, 0.0003977340527810632, 0.00039441597489649845, 0.0003901861409847756]\n"
     ]
    }
   ],
   "source": [
    "print(avgdict[avg])"
   ]
  },
  {
   "cell_type": "markdown",
   "metadata": {
    "id": "xF7tMfO3wBfE"
   },
   "source": [
    "**Comparing cost function of MDD and optimizer**"
   ]
  },
  {
   "cell_type": "code",
   "execution_count": 18,
   "metadata": {
    "colab": {
     "base_uri": "https://urldefense.com/v3/__https://localhost:8080/__;!!Nmw4Hv0!gpXH3mhiivG3nq6llXkJgWyn4ur-yT4nnQvRy9IXroADbLDQUfcWE74KaCcDM1OByoL2X5D9Mg$ "
    },
    "id": "GpP_hXxpcef3",
    "outputId": "3892befb-a797-4774-c1d1-2bdb594f139e"
   },
   "outputs": [
    {
     "data": {
      "text/plain": [
       "(100, 1000)"
      ]
     },
     "execution_count": 18,
     "metadata": {},
     "output_type": "execute_result"
    }
   ],
   "source": [
    "len(avgdict[avg]), len(lossdict[loss])"
   ]
  },
  {
   "cell_type": "code",
   "execution_count": 19,
   "metadata": {
    "colab": {
     "base_uri": "https://urldefense.com/v3/__https://localhost:8080/__;!!Nmw4Hv0!gpXH3mhiivG3nq6llXkJgWyn4ur-yT4nnQvRy9IXroADbLDQUfcWE74KaCcDM1OByoL2X5D9Mg$ ",
     "height": 374
    },
    "id": "sig_Z8ehlJSZ",
    "outputId": "61365046-b661-41f9-dc23-7940a5ce75cc"
   },
   "outputs": [
    {
     "data": {
      "image/png": "[encoded data removed]",
      "text/plain": [
       "<Figure size 864x432 with 1 Axes>"
      ]
     },
     "metadata": {
      "needs_background": "light"
     },
     "output_type": "display_data"
    }
   ],
   "source": [
    "\n",
    "\n",
    "for loss in avgdict.keys():\n",
    "  fig = plt.figure(figsize= (12,6))\n",
    "  plt.plot(avgdict[loss], label = loss)\n",
    "  plt.scatter(np.arange(0, len(avgdict[avg]), n_epochs/len(lsqr_cost)),lsqr_cost, label = \"lsqr_cost\")\n",
    "  plt.xlabel('n_epochs')\n",
    "  plt.ylabel('residual')\n",
    "  plt.title('cost function of MDD and optimizer')\n",
    "  plt.legend()\n",
    "  plt.tight_layout()\n"
   ]
  },
  {
   "cell_type": "markdown",
   "metadata": {
    "id": "-8pjfT1EbVUo"
   },
   "source": [
    "**Comparing ||e||_2 of MDD model and Optimizer model**"
   ]
  },
  {
   "cell_type": "code",
   "execution_count": 20,
   "metadata": {
    "id": "_X5zausdMX5y"
   },
   "outputs": [],
   "source": [
    "# enorm2t = lsqr_enorm**2  / (m.detach().numpy().size)"
   ]
  },
  {
   "cell_type": "code",
   "execution_count": 21,
   "metadata": {
    "colab": {
     "base_uri": "https://urldefense.com/v3/__https://localhost:8080/__;!!Nmw4Hv0!gpXH3mhiivG3nq6llXkJgWyn4ur-yT4nnQvRy9IXroADbLDQUfcWE74KaCcDM1OByoL2X5D9Mg$ ",
     "height": 374
    },
    "id": "fFFHA9KHjj0O",
    "outputId": "84cb1e4c-187d-4b77-f3fa-c65bd39218b1"
   },
   "outputs": [
    {
     "data": {
      "image/png": "[encoded data removed]",
      "text/plain": [
       "<Figure size 864x432 with 1 Axes>"
      ]
     },
     "metadata": {
      "needs_background": "light"
     },
     "output_type": "display_data"
    }
   ],
   "source": [
    "for enorm in enormdict.keys():\n",
    "  fig = plt.figure(figsize= (12,6))\n",
    "  plt.plot(enormdict[enorm], label = loss)\n",
    "  plt.scatter(np.arange(0, len(enormdict[enorm]), (no_of_batches*n_epochs)/len(lsqr_enorm)),lsqr_enorm, label ='lsqr_enorm')\n",
    "  plt.ylabel('||e||_2')\n",
    "  plt.xlabel('n_epochs')\n",
    "  plt.title(\" ||e||_2 of MDD model and Optimizer model\")\n",
    "  plt.legend()\n",
    "\n",
    "  plt.tight_layout()"
   ]
  },
  {
   "cell_type": "code",
   "execution_count": null,
   "metadata": {
    "id": "jYmaXI39M3Lq"
   },
   "outputs": [],
   "source": []
  }
 ],
 "metadata": {
  "colab": {
   "collapsed_sections": [],
   "name": "Minibatch MDD comparison.ipynb",
   "provenance": []
  },
  "kernelspec": {
   "display_name": "Python 3",
   "language": "python",
   "name": "python3"
  },
  "language_info": {
   "codemirror_mode": {
    "name": "ipython",
    "version": 3
   },
   "file_extension": ".py",
   "mimetype": "text/x-python",
   "name": "python",
   "nbconvert_exporter": "python",
   "pygments_lexer": "ipython3",
   "version": "3.8.8"
  }
 },
 "nbformat": 4,
 "nbformat_minor": 1
}
