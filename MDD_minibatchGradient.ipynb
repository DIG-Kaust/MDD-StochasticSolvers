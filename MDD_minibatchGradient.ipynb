{
 "cells": [
  {
   "cell_type": "code",
   "execution_count": null,
   "metadata": {
    "id": "QURVE-_BLnpo"
   },
   "outputs": [],
   "source": [
    "%load_ext autoreload\n",
    "%autoreload 2\n",
    "%matplotlib inline\n",
    "\n",
    "import warnings\n",
    "warnings.filterwarnings('ignore')\n",
    "import cProfile\n",
    "import numpy as np\n",
    "import matplotlib.pyplot as plt\n",
    "import scipy as sp\n",
    "\n",
    "\n",
    "from scipy.sparse import csr_matrix, vstack\n",
    "from scipy.linalg import lstsq, solve\n",
    "from scipy.sparse.linalg import LinearOperator, cg, lsqr\n",
    "from scipy import misc\n",
    "from tqdm.notebook import tqdm_notebook, tnrange\n",
    "\n",
    "from pylops.utils                      import dottest\n",
    "from pylops.utils.wavelets             import *\n",
    "from pylops.utils.seismicevents        import *\n",
    "from pylops.utils.tapers               import *\n",
    "from pylops.basicoperators             import *\n",
    "from pylops.signalprocessing           import *\n",
    "from pylops.waveeqprocessing.mdd       import *\n",
    "from pylops.optimization.leastsquares  import *"
   ]
  },
  {
   "cell_type": "markdown",
   "metadata": {
    "id": "wWAh39afLvbS"
   },
   "source": [
    "### Multi-dimensional convolution (MDC)\n",
    "\n"
   ]
  },
  {
   "cell_type": "markdown",
   "metadata": {
    "id": "i6FarrW5QrDV"
   },
   "source": [
    "The so-called multi-dimensional convolution (MDC) is a chained operator. It is composed of a forward Fourier transform a multi-dimensional integration (as shown in equation below) and an inverse Fourier transform:\n",
    "    \n",
    "$$ d(s,v,f) = \\int_S R(s,r,f) m(v,r,f) dr$$\n",
    "\n",
    "This operation can be discretized and performed by means of a linear operator\n",
    "\n",
    "$$\\mathbf{G}= \\mathbf{F}^H  \\mathbf{R} \\mathbf{F}$$\n",
    "\n",
    "where $\\mathbf{F}$ is the Fourier transform applied along the time axis  and $\\mathbf{R}$ is multi-dimensional convolution kernel espressed in the equation above."
   ]
  },
  {
   "cell_type": "markdown",
   "metadata": {
    "id": "G1f6FoGoQrDW"
   },
   "source": [
    "Let's start considering a single virtual source"
   ]
  },
  {
   "cell_type": "code",
   "execution_count": null,
   "metadata": {
    "id": "ASd16Gzwg9Ef"
   },
   "outputs": [],
   "source": [
    "###### Input parameters\n",
    "par = {'ox':-300,  'dx':10,    'nx':61,\n",
    "       'oy':-500,  'dy':10,    'ny':101,\n",
    "       'ot':0,     'dt':0.004, 'nt':400,\n",
    "       'f0': 20,   'nfmax': 200}\n",
    "\n",
    "t0_m    = [0.2]\n",
    "vrms_m  = [1100.]\n",
    "amp_m   = [1.]\n",
    "\n",
    "t0_G    = [0.2,0.5,0.7]\n",
    "vrms_G  = [1200.,1500., 2000.]\n",
    "amp_G   = [1.,0.6,0.5]\n",
    "\n",
    "ns = par['ny']\n",
    "nr = par['nx']\n",
    "nt = par['nt']\n",
    "nfmax = par['nfmax']\n",
    "dr = par['dx']\n",
    "ds = par['dy']\n",
    "dt = par['dt']\n",
    "f0 = par['f0']\n",
    "\n",
    "# Create taper for operator\n",
    "tap = taper3d(nt, (ns,nr), [5,5], tapertype='hanning')\n",
    "\n",
    "# Create axis\n",
    "t,t2,x,y = makeaxis(par)\n",
    "\n",
    "# Create wavelet\n",
    "wav = ricker(t[:41], f0)[0]\n",
    "\n",
    "# Generate model\n",
    "m, mwav = hyperbolic2d(x,t,t0_m,vrms_m,amp_m,wav)\n",
    "\n",
    "# Generate operator\n",
    "G,Gwavoriginal = np.zeros((ns,nr,nt)), - \\\n",
    "         np.zeros((ns,nr,nt))\n",
    "for iy,y0 in enumerate(y):\n",
    "    G[iy],Gwavoriginal[iy] = hyperbolic2d(x-y0,t,t0_G,vrms_G,amp_G,wav)\n",
    "G,Gwavoriginal = G*tap,Gwavoriginal*tap"
   ]
  },
  {
   "cell_type": "code",
   "execution_count": null,
   "metadata": {
    "id": "dSB0ODpPSIRd"
   },
   "outputs": [],
   "source": [
    "Gwav = Gwavoriginal.copy()"
   ]
  },
  {
   "cell_type": "code",
   "execution_count": null,
   "metadata": {
    "id": "vYOC8fDYQrDW"
   },
   "outputs": [],
   "source": [
    "# Add negative part to operator and model\n",
    "ns = Gwav.shape[0]\n",
    "m     = np.concatenate((np.zeros((nr, nt-1)), m), axis=-1).T\n",
    "mwav  = np.concatenate((np.zeros((nr, nt-1)), mwav), axis=-1).T\n",
    "Gwav2 = np.concatenate((np.zeros((ns, nr, nt-1)), Gwav), axis=-1)\n"
   ]
  },
  {
   "cell_type": "code",
   "execution_count": null,
   "metadata": {
    "colab": {
     "base_uri": "https://urldefense.com/v3/__https://localhost:8080/__;!!Nmw4Hv0!jssfMktePIMd91d_WTvWRKjkCIyRoeMul7zpffNkggsYDxC20ln6w2yS3sdt28nAJwYzeRgzjw$ "
    },
    "id": "zjXuXBF3QrDX",
    "outputId": "834024e5-57c5-4d04-ab76-c4baf8311034"
   },
   "outputs": [
    {
     "name": "stdout",
     "output_type": "stream",
     "text": [
      "Dot test passed, v^T(Opu)=-4770.172202+4046.896423i - u^T(Op^Tv)=-4770.172202+8132.717211i\n"
     ]
    }
   ],
   "source": [
    "# Create frequency domain operator\n",
    "Gwav_fft = np.fft.rfft(Gwav2, 2*nt-1, axis=-1)\n",
    "Gwav_fft = Gwav_fft[...,:nfmax]\n",
    "Gwav_fft = Gwav_fft.transpose(2,0,1)\n",
    "\n",
    "# Create operator\n",
    "MDCop=MDC(Gwav_fft, nt=2*nt-1, nv=1, dt=dt, dr=dr, \n",
    "          twosided=True, transpose=False)\n",
    "dottest(MDCop, MDCop.shape[0], MDCop.shape[1], complexflag=3, verb=True)\n",
    "\n",
    "# Create data\n",
    "d = MDCop*m.flatten()\n",
    "d = d.reshape(2*nt-1, ns)"
   ]
  },
  {
   "cell_type": "code",
   "execution_count": null,
   "metadata": {
    "id": "X2buHeBeUhax"
   },
   "outputs": [],
   "source": [
    "# gradient function\n",
    "\n",
    "def evaluate_gradient(batch, d,minv,nfmax,lm,dr,dt,nt,batch_size, type = float):\n",
    "  Gwav_fft = np.fft.rfft(batch, 2*nt-1, axis=-1)\n",
    "  Gwav_fft = Gwav_fft[...,:nfmax]\n",
    "  MDCop1 = MDC(Gwav_fft.transpose(2,0,1), nt = 2*nt-1, nv=1, dt=dt, dr=dr, twosided = True,transpose = False)\n",
    " \n",
    "  \n",
    "  data1=MDCop1*minv.flatten()\n",
    "  data1= data1.reshape(2*nt-1, batch_size)\n",
    "\n",
    "  res = d - data1\n",
    "  cost= np.sum(np.power((res),2))\n",
    "\n",
    "  grad = (-2*MDCop1.H*res.flatten()) + 2*lm*minv.flatten()\n",
    "  grad = grad.reshape(2*nt-1,nr)\n",
    "\n",
    "  return grad, cost\n"
   ]
  },
  {
   "cell_type": "code",
   "execution_count": null,
   "metadata": {
    "id": "jAvYejU5YSts"
   },
   "outputs": [],
   "source": [
    "# mini batch gradient function\n",
    "\n",
    "def mini_gd(Gwav, d, minv, nfmax, lr, dt, dr, nt, lm, n_epochs, batch_size):\n",
    "\n",
    "  no_of_batches=Gwav.shape[0]//batch_size\n",
    "  for i_epoch in tqdm_notebook(range(n_epochs), desc = 'No.of.Epochs'):\n",
    "      \n",
    "      for i in range(no_of_batches):\n",
    "        mini_batch = Gwav[i*batch_size:(i+1)*batch_size,:]\n",
    "        minibatch.append(mini_batch)\n",
    "        d_batch = d[:,i*batch_size:(i+1)*batch_size]\n",
    "        dbatch.append(d_batch)\n",
    "\n",
    "      for batch, dbatch1 in zip(minibatch, dbatch):     \n",
    "        grad, cost= evaluate_gradient(batch, dbatch1, minv, nfmax = nfmax, lm=lm,dt=dt, dr=dr, nt=nt, batch_size= batch_size)\n",
    "        c.append(cost)\n",
    "        minv = minv.flatten() - (lr * grad.flatten())\n",
    "        minv = minv.reshape(2*nt-1,nr)\n",
    "  \n",
    "  \n",
    "  return grad, c, minv"
   ]
  },
  {
   "cell_type": "code",
   "execution_count": null,
   "metadata": {
    "id": "VbqB2YocOsM4"
   },
   "outputs": [],
   "source": [
    "# Creating a dictionary to store cost function\n",
    "cost_dict = {}"
   ]
  },
  {
   "cell_type": "code",
   "execution_count": null,
   "metadata": {
    "colab": {
     "base_uri": "https://urldefense.com/v3/__https://localhost:8080/__;!!Nmw4Hv0!jssfMktePIMd91d_WTvWRKjkCIyRoeMul7zpffNkggsYDxC20ln6w2yS3sdt28nAJwYzeRgzjw$ ",
     "height": 66,
     "referenced_widgets": [
      "cf660f7fbc69437199ae9764d186fb79",
      "3ea1eb2b08f847b7ae690e5856966d56",
      "95c53ec1798d42f08e71db9cd4fba7e0",
      "add20e128a5a4532b6dfc4dc38864bab",
      "7fb1c1c0a83346fa843763e80bd9d51b",
      "5869af9b0b914e058c2f303d64235993",
      "a94438bb5af24c17b00939c974e63c6d",
      "4a8bb9a1c5fb46e7bfd32592015e1a83"
     ]
    },
    "id": "fHFUPpIHR2G_",
    "outputId": "c952f1fc-7d33-4d6c-fc7c-9dfd40b62bd5"
   },
   "outputs": [
    {
     "data": {
      "application/vnd.jupyter.widget-view+json": {
       "model_id": "cf660f7fbc69437199ae9764d186fb79",
       "version_major": 2,
       "version_minor": 0
      },
      "text/plain": [
       "HBox(children=(FloatProgress(value=0.0, description='No.of.Epochs', max=10.0, style=ProgressStyle(description_…"
      ]
     },
     "metadata": {
      "tags": []
     },
     "output_type": "display_data"
    },
    {
     "name": "stdout",
     "output_type": "stream",
     "text": [
      "\n"
     ]
    }
   ],
   "source": [
    "#1 Assigning the gradient\n",
    "\n",
    "dt= 0.004\n",
    "dr =10\n",
    "nt=400\n",
    "lr =0.00001\n",
    "lm = 0.001\n",
    "n_epochs = 10\n",
    "nfmax = 200\n",
    "batch_size= 75\n",
    "\n",
    "\n",
    "minibatch=[]\n",
    "dbatch =[]\n",
    "c=[]\n",
    "\n",
    "minv = np.zeros((m.shape[0], m.shape[1]))\n",
    "\n",
    "grad, c, minv = mini_gd(Gwav2, d, minv, nfmax, lr, dt, dr, nt, lm, n_epochs, batch_size)\n",
    "\n",
    "cost_dict[\"batch_size = 75 , epochs = 10\"] = c"
   ]
  },
  {
   "cell_type": "code",
   "execution_count": null,
   "metadata": {
    "colab": {
     "base_uri": "https://urldefense.com/v3/__https://localhost:8080/__;!!Nmw4Hv0!jssfMktePIMd91d_WTvWRKjkCIyRoeMul7zpffNkggsYDxC20ln6w2yS3sdt28nAJwYzeRgzjw$ ",
     "height": 793
    },
    "id": "TRQfrvev29JT",
    "outputId": "41700888-8795-4b42-860a-5f1cd99a2450"
   },
   "outputs": [
    {
     "data": {
      "image/png": "[encoded data removed]",
      "text/plain": [
       "<Figure size 576x288 with 1 Axes>"
      ]
     },
     "metadata": {
      "needs_background": "light",
      "tags": []
     },
     "output_type": "display_data"
    },
    {
     "data": {
      "image/png": "[encoded data removed]",
      "text/plain": [
       "<Figure size 864x504 with 2 Axes>"
      ]
     },
     "metadata": {
      "needs_background": "light",
      "tags": []
     },
     "output_type": "display_data"
    }
   ],
   "source": [
    "fig = plt.figure(figsize= (8,4))\n",
    "plt.plot(c, label = 'L2_norm')\n",
    "plt.title('cost function ', fontsize=12)\n",
    "plt.xlabel('n_epochs')\n",
    "plt.ylabel('residual')\n",
    "plt.legend()\n",
    "plt.tight_layout()\n",
    "\n",
    "\n",
    "fig = plt.figure(figsize= (12,7))\n",
    "ax1 = plt.subplot2grid((1, 5), (0, 0), colspan=2)\n",
    "ax2 = plt.subplot2grid((1, 5), (0, 2), colspan=2)\n",
    "ax1.imshow(minv, aspect='auto', interpolation='nearest', cmap='gray',\n",
    "           vmin=-minv.max(), vmax=minv.max(),\n",
    "           extent=(x.min(),x.max(),t2.max(),t2.min()))\n",
    "ax1.set_title('minv', fontsize=12)\n",
    "ax1.set_xlabel('x'),ax1.set_ylabel('t')\n",
    "\n",
    "ax2.imshow(grad*lr, aspect='auto', interpolation='nearest', cmap='gray',\n",
    "           vmin=-minv.max(), vmax=minv.max(),\n",
    "           extent=(x.min(),x.max(),t2.max(),t2.min()))\n",
    "\n",
    "ax2.set_title('grad', fontsize=12)\n",
    "ax2.set_xlabel('x'),ax2.set_ylabel('t')\n",
    "fig.tight_layout()"
   ]
  },
  {
   "cell_type": "code",
   "execution_count": null,
   "metadata": {
    "colab": {
     "base_uri": "https://urldefense.com/v3/__https://localhost:8080/__;!!Nmw4Hv0!jssfMktePIMd91d_WTvWRKjkCIyRoeMul7zpffNkggsYDxC20ln6w2yS3sdt28nAJwYzeRgzjw$ ",
     "height": 66,
     "referenced_widgets": [
      "63aa93fbe7094ea1ab189dd7f9a4e2ec",
      "1e4b2f2788a3402284c7fd00b27b4cb9",
      "418ea78c8826485db93057475764b296",
      "60d2ca9ea71249a4b13607dc6c896a6b",
      "87ef6280466f42b8a6bb4f3ddc995e29",
      "89f10ecfa4de4b55b53d63fb11bc36e3",
      "f0cf0c1db8324612bfa0831931391f4a",
      "ca993653414c4a4ba8b0c5cfa5eb6edd"
     ]
    },
    "id": "UhFcvUZ6O9Zl",
    "outputId": "14af9179-4248-457b-e7d6-6b2c37a2a2c8"
   },
   "outputs": [
    {
     "data": {
      "application/vnd.jupyter.widget-view+json": {
       "model_id": "63aa93fbe7094ea1ab189dd7f9a4e2ec",
       "version_major": 2,
       "version_minor": 0
      },
      "text/plain": [
       "HBox(children=(FloatProgress(value=0.0, description='No.of.Epochs', max=10.0, style=ProgressStyle(description_…"
      ]
     },
     "metadata": {
      "tags": []
     },
     "output_type": "display_data"
    },
    {
     "name": "stdout",
     "output_type": "stream",
     "text": [
      "\n"
     ]
    }
   ],
   "source": [
    "#2 Assigning the gradient\n",
    "\n",
    "dt= 0.004\n",
    "dr =10\n",
    "nt=400\n",
    "lr =0.00001\n",
    "lm = 0.001\n",
    "n_epochs = 10\n",
    "nfmax = 200\n",
    "batch_size= 50\n",
    "\n",
    "\n",
    "minibatch=[]\n",
    "dbatch =[]\n",
    "c=[]\n",
    "\n",
    "minv = np.zeros((m.shape[0], m.shape[1]))\n",
    "\n",
    "grad, c, minv = mini_gd(Gwav2, d, minv, nfmax, lr, dt, dr, nt, lm, n_epochs, batch_size)\n",
    "\n",
    "cost_dict[\"batch_size = 50, epochs = 10\"] = c"
   ]
  },
  {
   "cell_type": "code",
   "execution_count": null,
   "metadata": {
    "colab": {
     "base_uri": "https://urldefense.com/v3/__https://localhost:8080/__;!!Nmw4Hv0!jssfMktePIMd91d_WTvWRKjkCIyRoeMul7zpffNkggsYDxC20ln6w2yS3sdt28nAJwYzeRgzjw$ ",
     "height": 793
    },
    "id": "WfIpBCl4AF6I",
    "outputId": "327acbe5-c5a2-45bf-8a79-18d28bf56bef"
   },
   "outputs": [
    {
     "data": {
      "image/png": "[encoded data removed]",
      "text/plain": [
       "<Figure size 576x288 with 1 Axes>"
      ]
     },
     "metadata": {
      "needs_background": "light",
      "tags": []
     },
     "output_type": "display_data"
    },
    {
     "data": {
      "image/png": "[encoded data removed]",
      "text/plain": [
       "<Figure size 864x504 with 2 Axes>"
      ]
     },
     "metadata": {
      "needs_background": "light",
      "tags": []
     },
     "output_type": "display_data"
    }
   ],
   "source": [
    "fig = plt.figure(figsize= (8,4))\n",
    "plt.plot(c, label = 'L2_norm')\n",
    "plt.title('cost function ', fontsize=12)\n",
    "plt.xlabel('n_epochs')\n",
    "plt.ylabel('residual')\n",
    "plt.legend()\n",
    "plt.tight_layout()\n",
    "\n",
    "\n",
    "fig = plt.figure(figsize= (12,7))\n",
    "ax1 = plt.subplot2grid((1, 5), (0, 0), colspan=2)\n",
    "ax2 = plt.subplot2grid((1, 5), (0, 2), colspan=2)\n",
    "ax1.imshow(minv, aspect='auto', interpolation='nearest', cmap='gray',\n",
    "           vmin=-minv.max(), vmax=minv.max(),\n",
    "           extent=(x.min(),x.max(),t2.max(),t2.min()))\n",
    "ax1.set_title('minv', fontsize=12)\n",
    "ax1.set_xlabel('x'),ax1.set_ylabel('t')\n",
    "\n",
    "ax2.imshow(grad*lr, aspect='auto', interpolation='nearest', cmap='gray',\n",
    "           vmin=-minv.max(), vmax=minv.max(),\n",
    "           extent=(x.min(),x.max(),t2.max(),t2.min()))\n",
    "\n",
    "ax2.set_title('grad', fontsize=12)\n",
    "ax2.set_xlabel('x'),ax2.set_ylabel('t')\n",
    "fig.tight_layout()"
   ]
  },
  {
   "cell_type": "code",
   "execution_count": null,
   "metadata": {
    "colab": {
     "base_uri": "https://urldefense.com/v3/__https://localhost:8080/__;!!Nmw4Hv0!jssfMktePIMd91d_WTvWRKjkCIyRoeMul7zpffNkggsYDxC20ln6w2yS3sdt28nAJwYzeRgzjw$ ",
     "height": 66,
     "referenced_widgets": [
      "fc3067a2d4ff439192616f5bdcd5cd52",
      "a393aaeac99d484da5cf0c2ca070df85",
      "c25b9413866a48ee80eaeb264eb63f79",
      "a12f13cdf1a940c59f4b215721123a4f",
      "6f5903a115a3425a885b6de6d18b012f",
      "c6786c87816e4e6f816b400d3ef51e28",
      "227485d4ba63447f8242291e4b9c2c81",
      "db8c8342ca83468caa66119e89f10737"
     ]
    },
    "id": "8nXv0H1i_5ZE",
    "outputId": "1ee5a852-5b30-4af1-8fda-54317ffc78dd"
   },
   "outputs": [
    {
     "data": {
      "application/vnd.jupyter.widget-view+json": {
       "model_id": "fc3067a2d4ff439192616f5bdcd5cd52",
       "version_major": 2,
       "version_minor": 0
      },
      "text/plain": [
       "HBox(children=(FloatProgress(value=0.0, description='No.of.Epochs', max=10.0, style=ProgressStyle(description_…"
      ]
     },
     "metadata": {
      "tags": []
     },
     "output_type": "display_data"
    },
    {
     "name": "stdout",
     "output_type": "stream",
     "text": [
      "\n"
     ]
    }
   ],
   "source": [
    "#3 Assigning the gradient\n",
    "\n",
    "dt= 0.004\n",
    "dr =10\n",
    "nt=400\n",
    "lr =0.00001\n",
    "lm = 0.001\n",
    "n_epochs = 10\n",
    "nfmax = 200\n",
    "batch_size= 25\n",
    "\n",
    "\n",
    "minibatch=[]\n",
    "dbatch =[]\n",
    "c=[]\n",
    "\n",
    "minv = np.zeros((m.shape[0], m.shape[1]))\n",
    "\n",
    "grad, c, minv = mini_gd(Gwav2, d, minv, nfmax, lr, dt, dr, nt, lm, n_epochs, batch_size)\n",
    "\n",
    "cost_dict[\"batch_size = 25, epochs = 10\"] = c"
   ]
  },
  {
   "cell_type": "code",
   "execution_count": null,
   "metadata": {
    "colab": {
     "base_uri": "https://urldefense.com/v3/__https://localhost:8080/__;!!Nmw4Hv0!jssfMktePIMd91d_WTvWRKjkCIyRoeMul7zpffNkggsYDxC20ln6w2yS3sdt28nAJwYzeRgzjw$ ",
     "height": 297
    },
    "id": "1VVT2ItFP2NN",
    "outputId": "52b7f578-7acf-4230-89a9-60a53d9189d7"
   },
   "outputs": [
    {
     "data": {
      "image/png": "[encoded data removed]",
      "text/plain": [
       "<Figure size 432x288 with 1 Axes>"
      ]
     },
     "metadata": {
      "needs_background": "light",
      "tags": []
     },
     "output_type": "display_data"
    }
   ],
   "source": [
    "# Plotting the different cost function in dictionary\n",
    "\n",
    "for cname in cost_dict.keys():\n",
    "  plt.plot(cost_dict[cname], label = cname)\n",
    "plt.title(\"MiniBatch_gd\", fontsize = 13)\n",
    "plt.xlabel('n_epochs')\n",
    "plt.ylabel('residual')\n",
    "plt.legend()\n",
    "plt.tight_layout()"
   ]
  },
  {
   "cell_type": "code",
   "execution_count": null,
   "metadata": {
    "colab": {
     "base_uri": "https://urldefense.com/v3/__https://localhost:8080/__;!!Nmw4Hv0!jssfMktePIMd91d_WTvWRKjkCIyRoeMul7zpffNkggsYDxC20ln6w2yS3sdt28nAJwYzeRgzjw$ ",
     "height": 1000
    },
    "id": "iY4xLMZJQrDZ",
    "outputId": "59094d80-fdfd-4da5-ad58-60cb9229d2e5",
    "scrolled": false
   },
   "outputs": [
    {
     "data": {
      "image/png": "[encoded data removed]",
      "text/plain": [
       "<Figure size 216x432 with 1 Axes>"
      ]
     },
     "metadata": {
      "needs_background": "light",
      "tags": []
     },
     "output_type": "display_data"
    },
    {
     "data": {
      "image/png": "[encoded data removed]",
      "text/plain": [
       "<Figure size 432x432 with 2 Axes>"
      ]
     },
     "metadata": {
      "needs_background": "light",
      "tags": []
     },
     "output_type": "display_data"
    },
    {
     "data": {
      "image/png": "[encoded data removed]",
      "text/plain": [
       "<Figure size 216x432 with 1 Axes>"
      ]
     },
     "metadata": {
      "needs_background": "light",
      "tags": []
     },
     "output_type": "display_data"
    }
   ],
   "source": [
    "# D, G - inline view, G-xline view, model\n",
    "# Plotting\n",
    "plt.figure(figsize=(3, 6))\n",
    "plt.imshow(mwav,aspect='auto',interpolation='nearest', vmin=-2, vmax=2, cmap='gray',\n",
    "           extent=(x.min(),x.max(),t2.max(),t2.min()))\n",
    "plt.title('m ', fontsize=15)\n",
    "plt.xlabel('x')\n",
    "plt.ylabel('t')\n",
    "plt.tight_layout()\n",
    "\n",
    "plt.figure(figsize=(6, 6))\n",
    "plt.subplot(121)\n",
    "plt.imshow(Gwav2[int(ns/2)].T,aspect='auto',interpolation='nearest', vmin=-2, vmax=2, cmap='gray',\n",
    "           extent=(x.min(),x.max(),t2.max(),t2.min()))\n",
    "plt.title('G - inline view', fontsize=15)\n",
    "plt.xlabel('x'),plt.ylabel('t')\n",
    "plt.subplot(122)\n",
    "plt.imshow(Gwav2[:,int(nr/2)].T,aspect='auto',interpolation='nearest', vmin=-2, vmax=2, cmap='gray',\n",
    "           extent=(y.min(),y.max(),t2.max(),t2.min()))\n",
    "plt.title('G - xline view', fontsize=15)\n",
    "plt.xlabel('y'),plt.ylabel('t')\n",
    "plt.tight_layout()\n",
    "\n",
    "plt.figure(figsize=(3, 6))\n",
    "plt.imshow(d, aspect='auto',interpolation='nearest', vmin=-20, vmax=20, cmap='gray',\n",
    "           extent=(x.min(),x.max(),t2.max(),t2.min()))\n",
    "plt.title('d', fontsize=15)\n",
    "plt.xlabel('x'),plt.ylabel('t')\n",
    "plt.tight_layout()"
   ]
  },
  {
   "cell_type": "markdown",
   "metadata": {
    "id": "wNkQzDx0QrDa"
   },
   "source": [
    "## Application 1: Multi-dimensional deconvolution (MDD)"
   ]
  },
  {
   "cell_type": "markdown",
   "metadata": {
    "id": "wBHwbiSIQrDa"
   },
   "source": [
    "MDD is an ill-solved problem, well-known in the image processing and geophysical community. It aims to remove the effect of the multidimensional convolution kernel or the so-called point-spread function (PSF). It can be written as\n",
    "\n",
    "$$\\mathbf{d}= \\mathbf{D} \\mathbf{m}$$\n",
    "\n",
    "or, equivalently, by means of its normal equation\n",
    "\n",
    "$$\\mathbf{m}= (\\mathbf{D}^H\\mathbf{D})^{-1} \\mathbf{D}^H\\mathbf{d}$$\n",
    "\n",
    "where $\\mathbf{D}^H\\mathbf{D}$ is generally referred to as blurring operator or PSF."
   ]
  },
  {
   "cell_type": "markdown",
   "metadata": {
    "id": "-51sXaGcQrDa"
   },
   "source": [
    "### Single virtual source"
   ]
  },
  {
   "cell_type": "markdown",
   "metadata": {
    "id": "Idt88YhhQrDb"
   },
   "source": [
    "Let's take from where we left and invert our MDC operator. This is done directly using the LSQR solver"
   ]
  },
  {
   "cell_type": "code",
   "execution_count": null,
   "metadata": {
    "colab": {
     "base_uri": "https://urldefense.com/v3/__https://localhost:8080/__;!!Nmw4Hv0!jssfMktePIMd91d_WTvWRKjkCIyRoeMul7zpffNkggsYDxC20ln6w2yS3sdt28nAJwYzeRgzjw$ "
    },
    "id": "VBL4KAffQrDb",
    "outputId": "5eccb4f6-77a7-4c5d-f8a9-946eab24df73"
   },
   "outputs": [
    {
     "name": "stdout",
     "output_type": "stream",
     "text": [
      " \n",
      "LSQR            Least-squares solution of  Ax = b\n",
      "The matrix A has    80699 rows  and    48739 cols\n",
      "damp = 1.00000000000000e-10   calc_var =        0\n",
      "atol = 1.00e-08                 conlim = 1.00e+08\n",
      "btol = 1.00e-08               iter_lim =       10\n",
      " \n",
      "   Itn      x[0]       r1norm     r2norm   Compatible    LS      Norm A   Cond A\n",
      "     0  0.00000e+00   2.836e+02  2.836e+02    1.0e+00  4.6e-01\n",
      "     1  0.00000e+00   1.840e+02  1.840e+02    6.5e-01  6.8e-01   1.7e+02  1.0e+00\n",
      "     2  0.00000e+00   1.267e+02  1.267e+02    4.5e-01  4.2e-01   2.5e+02  2.4e+00\n",
      "     3  0.00000e+00   9.672e+01  9.672e+01    3.4e-01  2.9e-01   3.2e+02  3.8e+00\n",
      "     4  0.00000e+00   7.788e+01  7.788e+01    2.7e-01  2.2e-01   3.7e+02  5.4e+00\n",
      "     5  0.00000e+00   6.362e+01  6.362e+01    2.2e-01  1.9e-01   4.1e+02  7.2e+00\n",
      "     6  0.00000e+00   5.448e+01  5.448e+01    1.9e-01  1.6e-01   4.5e+02  9.0e+00\n",
      "     7  0.00000e+00   4.695e+01  4.695e+01    1.7e-01  1.3e-01   4.8e+02  1.1e+01\n",
      "     8  0.00000e+00   4.039e+01  4.039e+01    1.4e-01  1.2e-01   5.1e+02  1.3e+01\n",
      "     9  0.00000e+00   3.568e+01  3.568e+01    1.3e-01  1.1e-01   5.4e+02  1.6e+01\n",
      "    10  0.00000e+00   3.200e+01  3.200e+01    1.1e-01  9.8e-02   5.6e+02  1.8e+01\n",
      " \n",
      "LSQR finished\n",
      "The iteration limit has been reached                      \n",
      " \n",
      "istop =       7   r1norm = 3.2e+01   anorm = 5.6e+02   arnorm = 1.8e+03\n",
      "itn   =      10   r2norm = 3.2e+01   acond = 1.8e+01   xnorm  = 3.3e+00\n",
      " \n"
     ]
    }
   ],
   "source": [
    "madj = MDCop.H*d.flatten()\n",
    "minv, istop, itn, r1norm, r2norm = lsqr(MDCop, d.ravel(), damp=1e-10, iter_lim=10, show=1)[0:5]\n",
    "\n",
    "madj = madj.reshape(2*nt-1, nr)\n",
    "minv = minv.reshape(2*nt-1, nr)"
   ]
  },
  {
   "cell_type": "code",
   "execution_count": null,
   "metadata": {
    "colab": {
     "base_uri": "https://urldefense.com/v3/__https://localhost:8080/__;!!Nmw4Hv0!jssfMktePIMd91d_WTvWRKjkCIyRoeMul7zpffNkggsYDxC20ln6w2yS3sdt28nAJwYzeRgzjw$ ",
     "height": 657
    },
    "id": "1nyeBamHQrDc",
    "outputId": "7f97d026-4573-4595-8e52-0749ed60cd77",
    "scrolled": false
   },
   "outputs": [
    {
     "data": {
      "image/png": "[encoded data removed]",
      "text/plain": [
       "<Figure size 1080x648 with 3 Axes>"
      ]
     },
     "metadata": {
      "needs_background": "light",
      "tags": []
     },
     "output_type": "display_data"
    }
   ],
   "source": [
    "# Plotting\n",
    "fig = plt.figure(figsize=(15, 9))\n",
    "ax1 = plt.subplot2grid((1, 5), (0, 0), colspan=2)\n",
    "ax2 = plt.subplot2grid((1, 5), (0, 2), colspan=2)\n",
    "ax3 = plt.subplot2grid((1, 5), (0, 4))\n",
    "\n",
    "ax1.imshow(madj, aspect='auto',interpolation='nearest', cmap='gray', \n",
    "           vmin=-madj.max(), vmax=madj.max(),\n",
    "           extent=(x.min(),x.max(),t2.max(),t2.min()))\n",
    "ax1.set_title('adjoint m', fontsize=15)\n",
    "ax1.set_xlabel('x'),ax1.set_ylabel('t')\n",
    "\n",
    "ax2.imshow(minv, aspect='auto', interpolation='nearest', cmap='gray',\n",
    "           vmin=-minv.max(), vmax=minv.max(),\n",
    "           extent=(x.min(),x.max(),t2.max(),t2.min()))\n",
    "ax2.set_title('inverted m', fontsize=15)\n",
    "ax2.set_xlabel('x'),ax1.set_ylabel('t')\n",
    "\n",
    "ax3.plot(madj[:, int(nr/2)]/np.abs(madj[:, int(nr/2)]).max(), t2, 'r', lw=5)\n",
    "ax3.plot(minv[:, int(nr/2)]/np.abs(minv[:, int(nr/2)]).max(), t2, '--k', lw=3)\n",
    "ax3.set_ylim([t2[-1],t2[0]])\n",
    "fig.tight_layout()"
   ]
  }
 ],
 "metadata": {
  "colab": {
   "collapsed_sections": [],
   "name": "MDD-minibatchGradient.ipynb",
   "provenance": []
  },
  "kernelspec": {
   "display_name": "Python 3",
   "language": "python",
   "name": "python3"
  },
  "language_info": {
   "codemirror_mode": {
    "name": "ipython",
    "version": 3
   },
   "file_extension": ".py",
   "mimetype": "text/x-python",
   "name": "python",
   "nbconvert_exporter": "python",
   "pygments_lexer": "ipython3",
   "version": "3.8.8"
  },
  "widgets": {
   "application/vnd.jupyter.widget-state+json": {
    "1e4b2f2788a3402284c7fd00b27b4cb9": {
     "model_module": "@jupyter-widgets/base",
     "model_name": "LayoutModel",
     "state": {
      "_model_module": "@jupyter-widgets/base",
      "_model_module_version": "1.2.0",
      "_model_name": "LayoutModel",
      "_view_count": null,
      "_view_module": "@jupyter-widgets/base",
      "_view_module_version": "1.2.0",
      "_view_name": "LayoutView",
      "align_content": null,
      "align_items": null,
      "align_self": null,
      "border": null,
      "bottom": null,
      "display": null,
      "flex": null,
      "flex_flow": null,
      "grid_area": null,
      "grid_auto_columns": null,
      "grid_auto_flow": null,
      "grid_auto_rows": null,
      "grid_column": null,
      "grid_gap": null,
      "grid_row": null,
      "grid_template_areas": null,
      "grid_template_columns": null,
      "grid_template_rows": null,
      "height": null,
      "justify_content": null,
      "justify_items": null,
      "left": null,
      "margin": null,
      "max_height": null,
      "max_width": null,
      "min_height": null,
      "min_width": null,
      "object_fit": null,
      "object_position": null,
      "order": null,
      "overflow": null,
      "overflow_x": null,
      "overflow_y": null,
      "padding": null,
      "right": null,
      "top": null,
      "visibility": null,
      "width": null
     }
    },
    "227485d4ba63447f8242291e4b9c2c81": {
     "model_module": "@jupyter-widgets/controls",
     "model_name": "DescriptionStyleModel",
     "state": {
      "_model_module": "@jupyter-widgets/controls",
      "_model_module_version": "1.5.0",
      "_model_name": "DescriptionStyleModel",
      "_view_count": null,
      "_view_module": "@jupyter-widgets/base",
      "_view_module_version": "1.2.0",
      "_view_name": "StyleView",
      "description_width": ""
     }
    },
    "3ea1eb2b08f847b7ae690e5856966d56": {
     "model_module": "@jupyter-widgets/base",
     "model_name": "LayoutModel",
     "state": {
      "_model_module": "@jupyter-widgets/base",
      "_model_module_version": "1.2.0",
      "_model_name": "LayoutModel",
      "_view_count": null,
      "_view_module": "@jupyter-widgets/base",
      "_view_module_version": "1.2.0",
      "_view_name": "LayoutView",
      "align_content": null,
      "align_items": null,
      "align_self": null,
      "border": null,
      "bottom": null,
      "display": null,
      "flex": null,
      "flex_flow": null,
      "grid_area": null,
      "grid_auto_columns": null,
      "grid_auto_flow": null,
      "grid_auto_rows": null,
      "grid_column": null,
      "grid_gap": null,
      "grid_row": null,
      "grid_template_areas": null,
      "grid_template_columns": null,
      "grid_template_rows": null,
      "height": null,
      "justify_content": null,
      "justify_items": null,
      "left": null,
      "margin": null,
      "max_height": null,
      "max_width": null,
      "min_height": null,
      "min_width": null,
      "object_fit": null,
      "object_position": null,
      "order": null,
      "overflow": null,
      "overflow_x": null,
      "overflow_y": null,
      "padding": null,
      "right": null,
      "top": null,
      "visibility": null,
      "width": null
     }
    },
    "418ea78c8826485db93057475764b296": {
     "model_module": "@jupyter-widgets/controls",
     "model_name": "FloatProgressModel",
     "state": {
      "_dom_classes": [],
      "_model_module": "@jupyter-widgets/controls",
      "_model_module_version": "1.5.0",
      "_model_name": "FloatProgressModel",
      "_view_count": null,
      "_view_module": "@jupyter-widgets/controls",
      "_view_module_version": "1.5.0",
      "_view_name": "ProgressView",
      "bar_style": "success",
      "description": "No.of.Epochs: 100%",
      "description_tooltip": null,
      "layout": "IPY_MODEL_89f10ecfa4de4b55b53d63fb11bc36e3",
      "max": 10,
      "min": 0,
      "orientation": "horizontal",
      "style": "IPY_MODEL_87ef6280466f42b8a6bb4f3ddc995e29",
      "value": 10
     }
    },
    "4a8bb9a1c5fb46e7bfd32592015e1a83": {
     "model_module": "@jupyter-widgets/base",
     "model_name": "LayoutModel",
     "state": {
      "_model_module": "@jupyter-widgets/base",
      "_model_module_version": "1.2.0",
      "_model_name": "LayoutModel",
      "_view_count": null,
      "_view_module": "@jupyter-widgets/base",
      "_view_module_version": "1.2.0",
      "_view_name": "LayoutView",
      "align_content": null,
      "align_items": null,
      "align_self": null,
      "border": null,
      "bottom": null,
      "display": null,
      "flex": null,
      "flex_flow": null,
      "grid_area": null,
      "grid_auto_columns": null,
      "grid_auto_flow": null,
      "grid_auto_rows": null,
      "grid_column": null,
      "grid_gap": null,
      "grid_row": null,
      "grid_template_areas": null,
      "grid_template_columns": null,
      "grid_template_rows": null,
      "height": null,
      "justify_content": null,
      "justify_items": null,
      "left": null,
      "margin": null,
      "max_height": null,
      "max_width": null,
      "min_height": null,
      "min_width": null,
      "object_fit": null,
      "object_position": null,
      "order": null,
      "overflow": null,
      "overflow_x": null,
      "overflow_y": null,
      "padding": null,
      "right": null,
      "top": null,
      "visibility": null,
      "width": null
     }
    },
    "5869af9b0b914e058c2f303d64235993": {
     "model_module": "@jupyter-widgets/base",
     "model_name": "LayoutModel",
     "state": {
      "_model_module": "@jupyter-widgets/base",
      "_model_module_version": "1.2.0",
      "_model_name": "LayoutModel",
      "_view_count": null,
      "_view_module": "@jupyter-widgets/base",
      "_view_module_version": "1.2.0",
      "_view_name": "LayoutView",
      "align_content": null,
      "align_items": null,
      "align_self": null,
      "border": null,
      "bottom": null,
      "display": null,
      "flex": null,
      "flex_flow": null,
      "grid_area": null,
      "grid_auto_columns": null,
      "grid_auto_flow": null,
      "grid_auto_rows": null,
      "grid_column": null,
      "grid_gap": null,
      "grid_row": null,
      "grid_template_areas": null,
      "grid_template_columns": null,
      "grid_template_rows": null,
      "height": null,
      "justify_content": null,
      "justify_items": null,
      "left": null,
      "margin": null,
      "max_height": null,
      "max_width": null,
      "min_height": null,
      "min_width": null,
      "object_fit": null,
      "object_position": null,
      "order": null,
      "overflow": null,
      "overflow_x": null,
      "overflow_y": null,
      "padding": null,
      "right": null,
      "top": null,
      "visibility": null,
      "width": null
     }
    },
    "60d2ca9ea71249a4b13607dc6c896a6b": {
     "model_module": "@jupyter-widgets/controls",
     "model_name": "HTMLModel",
     "state": {
      "_dom_classes": [],
      "_model_module": "@jupyter-widgets/controls",
      "_model_module_version": "1.5.0",
      "_model_name": "HTMLModel",
      "_view_count": null,
      "_view_module": "@jupyter-widgets/controls",
      "_view_module_version": "1.5.0",
      "_view_name": "HTMLView",
      "description": "",
      "description_tooltip": null,
      "layout": "IPY_MODEL_ca993653414c4a4ba8b0c5cfa5eb6edd",
      "placeholder": "​",
      "style": "IPY_MODEL_f0cf0c1db8324612bfa0831931391f4a",
      "value": " 10/10 [00:07&lt;00:00,  1.27it/s]"
     }
    },
    "63aa93fbe7094ea1ab189dd7f9a4e2ec": {
     "model_module": "@jupyter-widgets/controls",
     "model_name": "HBoxModel",
     "state": {
      "_dom_classes": [],
      "_model_module": "@jupyter-widgets/controls",
      "_model_module_version": "1.5.0",
      "_model_name": "HBoxModel",
      "_view_count": null,
      "_view_module": "@jupyter-widgets/controls",
      "_view_module_version": "1.5.0",
      "_view_name": "HBoxView",
      "box_style": "",
      "children": [
       "IPY_MODEL_418ea78c8826485db93057475764b296",
       "IPY_MODEL_60d2ca9ea71249a4b13607dc6c896a6b"
      ],
      "layout": "IPY_MODEL_1e4b2f2788a3402284c7fd00b27b4cb9"
     }
    },
    "6f5903a115a3425a885b6de6d18b012f": {
     "model_module": "@jupyter-widgets/controls",
     "model_name": "ProgressStyleModel",
     "state": {
      "_model_module": "@jupyter-widgets/controls",
      "_model_module_version": "1.5.0",
      "_model_name": "ProgressStyleModel",
      "_view_count": null,
      "_view_module": "@jupyter-widgets/base",
      "_view_module_version": "1.2.0",
      "_view_name": "StyleView",
      "bar_color": null,
      "description_width": "initial"
     }
    },
    "7fb1c1c0a83346fa843763e80bd9d51b": {
     "model_module": "@jupyter-widgets/controls",
     "model_name": "ProgressStyleModel",
     "state": {
      "_model_module": "@jupyter-widgets/controls",
      "_model_module_version": "1.5.0",
      "_model_name": "ProgressStyleModel",
      "_view_count": null,
      "_view_module": "@jupyter-widgets/base",
      "_view_module_version": "1.2.0",
      "_view_name": "StyleView",
      "bar_color": null,
      "description_width": "initial"
     }
    },
    "87ef6280466f42b8a6bb4f3ddc995e29": {
     "model_module": "@jupyter-widgets/controls",
     "model_name": "ProgressStyleModel",
     "state": {
      "_model_module": "@jupyter-widgets/controls",
      "_model_module_version": "1.5.0",
      "_model_name": "ProgressStyleModel",
      "_view_count": null,
      "_view_module": "@jupyter-widgets/base",
      "_view_module_version": "1.2.0",
      "_view_name": "StyleView",
      "bar_color": null,
      "description_width": "initial"
     }
    },
    "89f10ecfa4de4b55b53d63fb11bc36e3": {
     "model_module": "@jupyter-widgets/base",
     "model_name": "LayoutModel",
     "state": {
      "_model_module": "@jupyter-widgets/base",
      "_model_module_version": "1.2.0",
      "_model_name": "LayoutModel",
      "_view_count": null,
      "_view_module": "@jupyter-widgets/base",
      "_view_module_version": "1.2.0",
      "_view_name": "LayoutView",
      "align_content": null,
      "align_items": null,
      "align_self": null,
      "border": null,
      "bottom": null,
      "display": null,
      "flex": null,
      "flex_flow": null,
      "grid_area": null,
      "grid_auto_columns": null,
      "grid_auto_flow": null,
      "grid_auto_rows": null,
      "grid_column": null,
      "grid_gap": null,
      "grid_row": null,
      "grid_template_areas": null,
      "grid_template_columns": null,
      "grid_template_rows": null,
      "height": null,
      "justify_content": null,
      "justify_items": null,
      "left": null,
      "margin": null,
      "max_height": null,
      "max_width": null,
      "min_height": null,
      "min_width": null,
      "object_fit": null,
      "object_position": null,
      "order": null,
      "overflow": null,
      "overflow_x": null,
      "overflow_y": null,
      "padding": null,
      "right": null,
      "top": null,
      "visibility": null,
      "width": null
     }
    },
    "95c53ec1798d42f08e71db9cd4fba7e0": {
     "model_module": "@jupyter-widgets/controls",
     "model_name": "FloatProgressModel",
     "state": {
      "_dom_classes": [],
      "_model_module": "@jupyter-widgets/controls",
      "_model_module_version": "1.5.0",
      "_model_name": "FloatProgressModel",
      "_view_count": null,
      "_view_module": "@jupyter-widgets/controls",
      "_view_module_version": "1.5.0",
      "_view_name": "ProgressView",
      "bar_style": "success",
      "description": "No.of.Epochs: 100%",
      "description_tooltip": null,
      "layout": "IPY_MODEL_5869af9b0b914e058c2f303d64235993",
      "max": 10,
      "min": 0,
      "orientation": "horizontal",
      "style": "IPY_MODEL_7fb1c1c0a83346fa843763e80bd9d51b",
      "value": 10
     }
    },
    "a12f13cdf1a940c59f4b215721123a4f": {
     "model_module": "@jupyter-widgets/controls",
     "model_name": "HTMLModel",
     "state": {
      "_dom_classes": [],
      "_model_module": "@jupyter-widgets/controls",
      "_model_module_version": "1.5.0",
      "_model_name": "HTMLModel",
      "_view_count": null,
      "_view_module": "@jupyter-widgets/controls",
      "_view_module_version": "1.5.0",
      "_view_name": "HTMLView",
      "description": "",
      "description_tooltip": null,
      "layout": "IPY_MODEL_db8c8342ca83468caa66119e89f10737",
      "placeholder": "​",
      "style": "IPY_MODEL_227485d4ba63447f8242291e4b9c2c81",
      "value": " 10/10 [00:07&lt;00:00,  1.30it/s]"
     }
    },
    "a393aaeac99d484da5cf0c2ca070df85": {
     "model_module": "@jupyter-widgets/base",
     "model_name": "LayoutModel",
     "state": {
      "_model_module": "@jupyter-widgets/base",
      "_model_module_version": "1.2.0",
      "_model_name": "LayoutModel",
      "_view_count": null,
      "_view_module": "@jupyter-widgets/base",
      "_view_module_version": "1.2.0",
      "_view_name": "LayoutView",
      "align_content": null,
      "align_items": null,
      "align_self": null,
      "border": null,
      "bottom": null,
      "display": null,
      "flex": null,
      "flex_flow": null,
      "grid_area": null,
      "grid_auto_columns": null,
      "grid_auto_flow": null,
      "grid_auto_rows": null,
      "grid_column": null,
      "grid_gap": null,
      "grid_row": null,
      "grid_template_areas": null,
      "grid_template_columns": null,
      "grid_template_rows": null,
      "height": null,
      "justify_content": null,
      "justify_items": null,
      "left": null,
      "margin": null,
      "max_height": null,
      "max_width": null,
      "min_height": null,
      "min_width": null,
      "object_fit": null,
      "object_position": null,
      "order": null,
      "overflow": null,
      "overflow_x": null,
      "overflow_y": null,
      "padding": null,
      "right": null,
      "top": null,
      "visibility": null,
      "width": null
     }
    },
    "a94438bb5af24c17b00939c974e63c6d": {
     "model_module": "@jupyter-widgets/controls",
     "model_name": "DescriptionStyleModel",
     "state": {
      "_model_module": "@jupyter-widgets/controls",
      "_model_module_version": "1.5.0",
      "_model_name": "DescriptionStyleModel",
      "_view_count": null,
      "_view_module": "@jupyter-widgets/base",
      "_view_module_version": "1.2.0",
      "_view_name": "StyleView",
      "description_width": ""
     }
    },
    "add20e128a5a4532b6dfc4dc38864bab": {
     "model_module": "@jupyter-widgets/controls",
     "model_name": "HTMLModel",
     "state": {
      "_dom_classes": [],
      "_model_module": "@jupyter-widgets/controls",
      "_model_module_version": "1.5.0",
      "_model_name": "HTMLModel",
      "_view_count": null,
      "_view_module": "@jupyter-widgets/controls",
      "_view_module_version": "1.5.0",
      "_view_name": "HTMLView",
      "description": "",
      "description_tooltip": null,
      "layout": "IPY_MODEL_4a8bb9a1c5fb46e7bfd32592015e1a83",
      "placeholder": "​",
      "style": "IPY_MODEL_a94438bb5af24c17b00939c974e63c6d",
      "value": " 10/10 [00:08&lt;00:00,  1.14it/s]"
     }
    },
    "c25b9413866a48ee80eaeb264eb63f79": {
     "model_module": "@jupyter-widgets/controls",
     "model_name": "FloatProgressModel",
     "state": {
      "_dom_classes": [],
      "_model_module": "@jupyter-widgets/controls",
      "_model_module_version": "1.5.0",
      "_model_name": "FloatProgressModel",
      "_view_count": null,
      "_view_module": "@jupyter-widgets/controls",
      "_view_module_version": "1.5.0",
      "_view_name": "ProgressView",
      "bar_style": "success",
      "description": "No.of.Epochs: 100%",
      "description_tooltip": null,
      "layout": "IPY_MODEL_c6786c87816e4e6f816b400d3ef51e28",
      "max": 10,
      "min": 0,
      "orientation": "horizontal",
      "style": "IPY_MODEL_6f5903a115a3425a885b6de6d18b012f",
      "value": 10
     }
    },
    "c6786c87816e4e6f816b400d3ef51e28": {
     "model_module": "@jupyter-widgets/base",
     "model_name": "LayoutModel",
     "state": {
      "_model_module": "@jupyter-widgets/base",
      "_model_module_version": "1.2.0",
      "_model_name": "LayoutModel",
      "_view_count": null,
      "_view_module": "@jupyter-widgets/base",
      "_view_module_version": "1.2.0",
      "_view_name": "LayoutView",
      "align_content": null,
      "align_items": null,
      "align_self": null,
      "border": null,
      "bottom": null,
      "display": null,
      "flex": null,
      "flex_flow": null,
      "grid_area": null,
      "grid_auto_columns": null,
      "grid_auto_flow": null,
      "grid_auto_rows": null,
      "grid_column": null,
      "grid_gap": null,
      "grid_row": null,
      "grid_template_areas": null,
      "grid_template_columns": null,
      "grid_template_rows": null,
      "height": null,
      "justify_content": null,
      "justify_items": null,
      "left": null,
      "margin": null,
      "max_height": null,
      "max_width": null,
      "min_height": null,
      "min_width": null,
      "object_fit": null,
      "object_position": null,
      "order": null,
      "overflow": null,
      "overflow_x": null,
      "overflow_y": null,
      "padding": null,
      "right": null,
      "top": null,
      "visibility": null,
      "width": null
     }
    },
    "ca993653414c4a4ba8b0c5cfa5eb6edd": {
     "model_module": "@jupyter-widgets/base",
     "model_name": "LayoutModel",
     "state": {
      "_model_module": "@jupyter-widgets/base",
      "_model_module_version": "1.2.0",
      "_model_name": "LayoutModel",
      "_view_count": null,
      "_view_module": "@jupyter-widgets/base",
      "_view_module_version": "1.2.0",
      "_view_name": "LayoutView",
      "align_content": null,
      "align_items": null,
      "align_self": null,
      "border": null,
      "bottom": null,
      "display": null,
      "flex": null,
      "flex_flow": null,
      "grid_area": null,
      "grid_auto_columns": null,
      "grid_auto_flow": null,
      "grid_auto_rows": null,
      "grid_column": null,
      "grid_gap": null,
      "grid_row": null,
      "grid_template_areas": null,
      "grid_template_columns": null,
      "grid_template_rows": null,
      "height": null,
      "justify_content": null,
      "justify_items": null,
      "left": null,
      "margin": null,
      "max_height": null,
      "max_width": null,
      "min_height": null,
      "min_width": null,
      "object_fit": null,
      "object_position": null,
      "order": null,
      "overflow": null,
      "overflow_x": null,
      "overflow_y": null,
      "padding": null,
      "right": null,
      "top": null,
      "visibility": null,
      "width": null
     }
    },
    "cf660f7fbc69437199ae9764d186fb79": {
     "model_module": "@jupyter-widgets/controls",
     "model_name": "HBoxModel",
     "state": {
      "_dom_classes": [],
      "_model_module": "@jupyter-widgets/controls",
      "_model_module_version": "1.5.0",
      "_model_name": "HBoxModel",
      "_view_count": null,
      "_view_module": "@jupyter-widgets/controls",
      "_view_module_version": "1.5.0",
      "_view_name": "HBoxView",
      "box_style": "",
      "children": [
       "IPY_MODEL_95c53ec1798d42f08e71db9cd4fba7e0",
       "IPY_MODEL_add20e128a5a4532b6dfc4dc38864bab"
      ],
      "layout": "IPY_MODEL_3ea1eb2b08f847b7ae690e5856966d56"
     }
    },
    "db8c8342ca83468caa66119e89f10737": {
     "model_module": "@jupyter-widgets/base",
     "model_name": "LayoutModel",
     "state": {
      "_model_module": "@jupyter-widgets/base",
      "_model_module_version": "1.2.0",
      "_model_name": "LayoutModel",
      "_view_count": null,
      "_view_module": "@jupyter-widgets/base",
      "_view_module_version": "1.2.0",
      "_view_name": "LayoutView",
      "align_content": null,
      "align_items": null,
      "align_self": null,
      "border": null,
      "bottom": null,
      "display": null,
      "flex": null,
      "flex_flow": null,
      "grid_area": null,
      "grid_auto_columns": null,
      "grid_auto_flow": null,
      "grid_auto_rows": null,
      "grid_column": null,
      "grid_gap": null,
      "grid_row": null,
      "grid_template_areas": null,
      "grid_template_columns": null,
      "grid_template_rows": null,
      "height": null,
      "justify_content": null,
      "justify_items": null,
      "left": null,
      "margin": null,
      "max_height": null,
      "max_width": null,
      "min_height": null,
      "min_width": null,
      "object_fit": null,
      "object_position": null,
      "order": null,
      "overflow": null,
      "overflow_x": null,
      "overflow_y": null,
      "padding": null,
      "right": null,
      "top": null,
      "visibility": null,
      "width": null
     }
    },
    "f0cf0c1db8324612bfa0831931391f4a": {
     "model_module": "@jupyter-widgets/controls",
     "model_name": "DescriptionStyleModel",
     "state": {
      "_model_module": "@jupyter-widgets/controls",
      "_model_module_version": "1.5.0",
      "_model_name": "DescriptionStyleModel",
      "_view_count": null,
      "_view_module": "@jupyter-widgets/base",
      "_view_module_version": "1.2.0",
      "_view_name": "StyleView",
      "description_width": ""
     }
    },
    "fc3067a2d4ff439192616f5bdcd5cd52": {
     "model_module": "@jupyter-widgets/controls",
     "model_name": "HBoxModel",
     "state": {
      "_dom_classes": [],
      "_model_module": "@jupyter-widgets/controls",
      "_model_module_version": "1.5.0",
      "_model_name": "HBoxModel",
      "_view_count": null,
      "_view_module": "@jupyter-widgets/controls",
      "_view_module_version": "1.5.0",
      "_view_name": "HBoxView",
      "box_style": "",
      "children": [
       "IPY_MODEL_c25b9413866a48ee80eaeb264eb63f79",
       "IPY_MODEL_a12f13cdf1a940c59f4b215721123a4f"
      ],
      "layout": "IPY_MODEL_a393aaeac99d484da5cf0c2ca070df85"
     }
    }
   }
  }
 },
 "nbformat": 4,
 "nbformat_minor": 1
}
